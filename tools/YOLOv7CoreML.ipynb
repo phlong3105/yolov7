{
 "nbformat": 4,
 "nbformat_minor": 0,
 "metadata": {
  "colab": {
   "name": "YOLOv7CoreML.ipynb",
   "provenance": []
  },
  "kernelspec": {
   "name": "python3",
   "display_name": "Python 3"
  },
  "language_info": {
   "name": "python"
  },
  "accelerator": "GPU",
  "gpuClass": "standard"
 },
 "cells": [
  {
   "cell_type": "code",
   "source": [
    "!pip install --upgrade setuptools pip --user\n",
    "\n",
    "!pip install onnx\n",
    "!pip install coremltools>=4.1"
   ],
   "metadata": {
    "colab": {
     "base_uri": "https://localhost:8080/",
     "height": 558
    },
    "id": "sSDOngglBk_O",
    "outputId": "49b46aee-3416-485f-8ff7-a186c5e31890"
   },
   "execution_count": 1,
   "outputs": []
  },
  {
   "cell_type": "code",
   "execution_count": 2,
   "metadata": {
    "colab": {
     "base_uri": "https://localhost:8080/"
    },
    "id": "hQ5fNost-gZI",
    "outputId": "cb60d2e1-f850-45bb-853d-effa4b204bde"
   },
   "source": [
    "import sys\n",
    "import torch\n",
    "print(f\"Python version: {sys.version}, {sys.version_info} \")\n",
    "print(f\"Pytorch version: {torch.__version__} \")"
   ],
   "outputs": []
  },
  {
   "cell_type": "code",
   "source": [
    "!nvidia-smi"
   ],
   "metadata": {
    "colab": {
     "base_uri": "https://localhost:8080/"
    },
    "id": "feCaRUEI-_Os",
    "outputId": "ac45fd9e-7a12-40ed-bcb9-06b18ee90922"
   },
   "execution_count": 3,
   "outputs": []
  },
  {
   "cell_type": "code",
   "source": [
    "!# Download YOLOv7 code\n",
    "!git clone https://github.com/WongKinYiu/yolov7\n",
    "%cd yolov7\n",
    "!ls"
   ],
   "metadata": {
    "colab": {
     "base_uri": "https://localhost:8080/"
    },
    "id": "yfZALjuo-_Md",
    "outputId": "88dbe003-898b-48ea-f374-42228d25a3cb"
   },
   "execution_count": 4,
   "outputs": []
  },
  {
   "cell_type": "code",
   "source": [
    "!# Download trained weights\n",
    "!wget https://github.com/WongKinYiu/yolov7/releases/download/v0.1/yolov7-tiny.pt"
   ],
   "metadata": {
    "colab": {
     "base_uri": "https://localhost:8080/"
    },
    "id": "eWlHa1NJ-_Jw",
    "outputId": "4e6c08c5-500f-4c3c-d273-bfc8941c37b7"
   },
   "execution_count": 5,
   "outputs": []
  },
  {
   "cell_type": "code",
   "source": [
    "!python detect.py --weights ./yolov7-tiny.pt --conf 0.25 --img-size 640 --source inference/images/horses.jpg"
   ],
   "metadata": {
    "colab": {
     "base_uri": "https://localhost:8080/"
    },
    "id": "UX7u8eqj-_Hi",
    "outputId": "a088cfd4-183a-47a1-d939-3d5afd15ce4c"
   },
   "execution_count": 6,
   "outputs": []
  },
  {
   "cell_type": "code",
   "source": [
    "from PIL import Image\n",
    "Image.open('/content/yolov7/runs/detect/exp/horses.jpg')"
   ],
   "metadata": {
    "colab": {
     "base_uri": "https://localhost:8080/",
     "height": 529
    },
    "id": "wZD-nZXX-_Ez",
    "outputId": "b201edb3-fb10-4d7f-f69d-78b4089a0e08"
   },
   "execution_count": 7,
   "outputs": []
  },
  {
   "cell_type": "code",
   "source": [
    "# export CoreML model for iOS/MacOS: yolov7-tiny.mlmodel\n",
    "%cd /content/yolov7/\n",
    "!python export.py --weights ./yolov7-tiny.pt --img-size 640 640"
   ],
   "metadata": {
    "colab": {
     "base_uri": "https://localhost:8080/"
    },
    "id": "VaPGM88g-_CE",
    "outputId": "74aa201a-2848-47f4-a1bd-1fea071c4d26"
   },
   "execution_count": 8,
   "outputs": []
  },
  {
   "cell_type": "code",
   "source": [
    "# show ONNX model\n",
    "!ls"
   ],
   "metadata": {
    "colab": {
     "base_uri": "https://localhost:8080/"
    },
    "id": "h9lzPkMxu7B8",
    "outputId": "74f439b6-6872-45ac-92b3-9c3e78164fce"
   },
   "execution_count": 9,
   "outputs": []
  },
  {
   "cell_type": "code",
   "source": [
    "# Load Coreml-model\n",
    "import coremltools as ct\n",
    "\n",
    "model_filename = 'yolov7-tiny.mlmodel'\n",
    "model = ct.models.MLModel(model_filename)"
   ],
   "metadata": {
    "colab": {
     "base_uri": "https://localhost:8080/"
    },
    "id": "BGwd9rydozWf",
    "outputId": "09365f4d-bd29-41f9-f169-84acdcf1bece"
   },
   "execution_count": 10,
   "outputs": []
  },
  {
   "cell_type": "code",
   "source": [
    "# Load image\n",
    "from PIL import Image\n",
    "import cv2\n",
    "import numpy as np\n",
    "\n",
    "im = cv2.imread('/content/yolov7/inference/images/horses.jpg')\n",
    "im = cv2.resize(im, (640, 640))\n",
    "print(f\" im = {im.shape}\")\n",
    "b = 1\n",
    "h, w, ch = im.shape\n",
    "\n",
    "im = Image.fromarray((im).astype('uint8'))\n",
    "print(f\" im = {im}\")"
   ],
   "metadata": {
    "colab": {
     "base_uri": "https://localhost:8080/"
    },
    "id": "qdGhPwO2rTc2",
    "outputId": "46bf3263-905f-414d-8b43-b4c94c0b5b26"
   },
   "execution_count": 11,
   "outputs": []
  },
  {
   "cell_type": "code",
   "source": [
    "def xywh2xyxy(x):\n",
    "    # Convert nx4 boxes from [x, y, w, h] to [x1, y1, x2, y2] where xy1=top-left, xy2=bottom-right\n",
    "    y = x.clone() if isinstance(x, torch.Tensor) else np.copy(x)\n",
    "    y[:, 0] = x[:, 0] - x[:, 2] / 2  # top left x\n",
    "    y[:, 1] = x[:, 1] - x[:, 3] / 2  # top left y\n",
    "    y[:, 2] = x[:, 0] + x[:, 2] / 2  # bottom right x\n",
    "    y[:, 3] = x[:, 1] + x[:, 3] / 2  # bottom right y\n",
    "    return y"
   ],
   "metadata": {
    "id": "fO3gTcCQrH27"
   },
   "execution_count": 12,
   "outputs": []
  },
  {
   "cell_type": "code",
   "source": [
    "# Inference only for MacOS and iOS!!!\n",
    "\n",
    "#y = model.predict({'image': im})  # coordinates are xywh normalized\n",
    "#if 'confidence' in y:\n",
    "#  box = xywh2xyxy(y['coordinates'] * [[w, h, w, h]])  # xyxy pixels\n",
    "#  conf, cls = y['confidence'].max(1), y['confidence'].argmax(1).astype(np.float)\n",
    "#  y = np.concatenate((box, conf.reshape(-1, 1), cls.reshape(-1, 1)), 1)\n",
    "#else:\n",
    "#  k = 'var_' + str(sorted(int(k.replace('var_', '')) for k in y)[-1])  # output key\n",
    "#  y = y[k]  # output\n",
    "#\n",
    "#print(y)"
   ],
   "metadata": {
    "id": "dS9iAcSH32A3"
   },
   "execution_count": null,
   "outputs": []
  }
 ]
}
